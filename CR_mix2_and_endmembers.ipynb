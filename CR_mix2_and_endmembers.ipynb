{
 "cells": [
  {
   "cell_type": "markdown",
   "metadata": {},
   "source": [
    "# Description\n",
    "This python script performs continuum removal (CR) on spectra of binary mixtures and endmembers. \\\n",
    "In addition, on each isolated band it computes band area (BA), band depth (BD) and band centre (BC). \n"
   ]
  },
  {
   "cell_type": "code",
   "execution_count": 2,
   "metadata": {},
   "outputs": [
    {
     "name": "stdout",
     "output_type": "stream",
     "text": [
      "Using matplotlib backend: <object object at 0x113ed40b0>\n"
     ]
    }
   ],
   "source": [
    "#import\n",
    "import numpy as np #numeric python\n",
    "import matplotlib.pyplot as plt #plots\n",
    "import matplotlib.ticker as ticker #set ticks spacing \n",
    "import seaborn as sns\n",
    "from find_nearest import find_nearest #to find nearest value in a numpy array \n",
    "\n",
    "\n",
    "#use %matplotlib to display figures on screen \n",
    "%matplotlib "
   ]
  },
  {
   "cell_type": "markdown",
   "metadata": {},
   "source": [
    "# Read and plot data "
   ]
  },
  {
   "cell_type": "code",
   "execution_count": 2,
   "metadata": {},
   "outputs": [
    {
     "name": "stdout",
     "output_type": "stream",
     "text": [
      "Spectra shape: (2151, 9)\n"
     ]
    }
   ],
   "source": [
    "path = 'Data/'\n",
    "endmember1_name = 'hexa' #put the clay/sulfate endmember name here. Other endmembers are: NAu-1, NAu-2 and SM1200H\n",
    "endmember2_name = 'FV7' #basalt endmember\n",
    "mix_ls = ['10', '20', '30', '40','50', '60', '70', '80', '90'] #relative abundance (%)\n",
    "means_ls = [] #list containing mean spectra \n",
    "labels_ls = [] #list with labels\n",
    "\n",
    "for i,name in enumerate(mix_ls):\n",
    "\n",
    "    #right combination to retrieve the filenames: np.loadtxt(path+endmember1_name + '-' + mix_ls[i] + '_' + endmember2_name + '-' + mix_ls[-i-1]...) for SM1200H\n",
    "    #or: np.loadtxt(endmember1_name + '_' + mix_ls[i] + '_' + endmember2_name + '_' + mix_ls[-i-1]...) for NAu-1, NAu-2, and Hexa\n",
    "\n",
    "    s0 = np.loadtxt(path+endmember1_name+'_'+mix_ls[i]+'_'+endmember2_name+'_'+mix_ls[-i-1]+'_00000.asd.rts.txt', delimiter='\\t', skiprows = 1)\n",
    "    s1 = np.loadtxt(path+endmember1_name+'_'+mix_ls[i]+'_'+endmember2_name+'_'+mix_ls[-i-1]+'_00001.asd.rts.txt', delimiter='\\t', skiprows = 1)\n",
    "    s2 = np.loadtxt(path+endmember1_name+'_'+mix_ls[i]+'_'+endmember2_name+'_'+mix_ls[-i-1]+'_00002.asd.rts.txt', delimiter='\\t', skiprows = 1)\n",
    "\n",
    "    s_mean = (s0[:,1]+s1[:,1]+s2[:,1])/3\n",
    "\n",
    "    means_ls.append(s_mean) #adding the spectrum to a list\n",
    "    labels_ls.append(endmember1_name+'-'+mix_ls[i]+'_'+endmember2_name+'-'+mix_ls[-i-1]) #adding the label to a list\n",
    "\n",
    "wvl = s0[:,0]*0.001 #wavelength in microns\n",
    "spectra = np.array(means_ls).T #all the spectra go from the list to this numpy array\n",
    "print('Spectra shape:',spectra.shape) #checking shape"
   ]
  },
  {
   "cell_type": "code",
   "execution_count": 3,
   "metadata": {},
   "outputs": [
    {
     "name": "stdout",
     "output_type": "stream",
     "text": [
      "Using matplotlib backend: MacOSX\n"
     ]
    }
   ],
   "source": [
    "#use %matplotlib to display figures on screen \n",
    "%matplotlib \n",
    "\n",
    "#plot (with or without offset)\n",
    "fig_s, axs_s = plt.subplots(figsize=(10,6))\n",
    "\n",
    "#palette\n",
    "palette = sns.color_palette(\"viridis\", len(labels_ls)).as_hex() \n",
    "axs_s.set_prop_cycle(color=palette)\n",
    "\n",
    "#offset: comment line with off = 0 if you need to use an offset\n",
    "off = np.arange(start = 0, stop = len(spectra[0,:])) * 0.02\n",
    "off = 0\n",
    "\n",
    "#plotting spectra\n",
    "axs_s.plot(wvl, spectra + off, label = labels_ls)\n",
    "\n",
    "#y and x label\n",
    "axs_s.set_ylabel('Reflectance', fontsize=14)\n",
    "axs_s.set_xlabel('Wavelength ('+r'$\\mu$m)', fontsize=14)\n",
    "\n",
    "#x tick spacing\n",
    "tick_spacing_major = 0.2\n",
    "tick_spacing_minor = 0.1\n",
    "axs_s.xaxis.set_major_locator(ticker.MultipleLocator(tick_spacing_major)) #big ticks\n",
    "axs_s.xaxis.set_minor_locator(ticker.MultipleLocator(tick_spacing_minor)) #secondary ticks\n",
    "\n",
    "plt.legend(bbox_to_anchor=(1.12,0.5), loc='center', ncol=1, reverse = True) #show legend next to the plot, in 1 col with reversed labels\n",
    "plt.tight_layout()\n",
    "plt.show()\n"
   ]
  },
  {
   "cell_type": "markdown",
   "metadata": {},
   "source": [
    "# Smoothing (boxcar) - optional\n",
    "Run to smooth spectra before computing spectral indexes. \\\n",
    "Smoothing helps reducing noise spikes, which in our case heavily affect in the 1.0 um band. "
   ]
  },
  {
   "cell_type": "code",
   "execution_count": null,
   "metadata": {},
   "outputs": [],
   "source": [
    "from IDL_smooth import smooth #IDL smoothing\n",
    "\n",
    "spectra_smoothed = np.zeros_like(spectra) #create a new array to contain smoothed spectra\n",
    "\n",
    "for i in range (0,len(spectra_smoothed[0,:])):\n",
    "    spectra_smoothed[:,i] = smooth(spectra[:,i],13) #smooth(data, w) -> data = array, w = window size (must be odd); e.g. w = 3"
   ]
  },
  {
   "cell_type": "code",
   "execution_count": null,
   "metadata": {},
   "outputs": [
    {
     "name": "stdout",
     "output_type": "stream",
     "text": [
      "Using matplotlib backend: MacOSX\n"
     ]
    }
   ],
   "source": [
    "#use %matplotlib to display figures on screen \n",
    "%matplotlib \n",
    "\n",
    "#plot with or without offset\n",
    "fig_s, axs_s = plt.subplots(figsize=(10,6))\n",
    "\n",
    "#palette\n",
    "palette = sns.color_palette(\"viridis\", len(labels_ls)).as_hex() #https://matplotlib.org/stable/tutorials/colors/colormaps.html\n",
    "axs_s.set_prop_cycle(color=palette)\n",
    "\n",
    "#offset: comment line with off = 0 if you need to use an offset\n",
    "off = np.arange(start = 0, stop = len(spectra[0,:])) * 0.02\n",
    "off = 0\n",
    "\n",
    "#plotting spectra\n",
    "axs_s.plot(wvl, spectra + off, color='red') #plot the original spectra to see the effect of smoothing\n",
    "axs_s.plot(wvl, spectra_smoothed + off, label = labels_ls)\n",
    "\n",
    "#y, x labels\n",
    "axs_s.set_ylabel('Reflectance', fontsize=10)\n",
    "axs_s.set_xlabel('Wavelength ('+r'$\\mu$m)', fontsize=10)\n",
    "\n",
    "#x tick spacing\n",
    "tick_spacing_major = 0.2\n",
    "tick_spacing_minor = 0.1\n",
    "axs_s.xaxis.set_major_locator(ticker.MultipleLocator(tick_spacing_major)) #big ticks\n",
    "axs_s.xaxis.set_minor_locator(ticker.MultipleLocator(tick_spacing_minor)) #secondary ticks\n",
    "\n",
    "plt.title('Spectra, smoothed')\n",
    "plt.legend(bbox_to_anchor=(1.12,0.5), loc='center', ncol=1, reverse = True) #show legend next to the plot, in 1 col with reversed labels\n",
    "plt.tight_layout()\n",
    "plt.show()"
   ]
  },
  {
   "cell_type": "code",
   "execution_count": 41,
   "metadata": {},
   "outputs": [],
   "source": [
    "#---- WARNING ----#\n",
    "# only run this cell if you want to compute the spectral parameters on smoothed spectra\n",
    "spectra = spectra_smoothed"
   ]
  },
  {
   "cell_type": "markdown",
   "metadata": {},
   "source": [
    "# Continuum removal"
   ]
  },
  {
   "cell_type": "markdown",
   "metadata": {},
   "source": [
    "## Function definition "
   ]
  },
  {
   "cell_type": "code",
   "execution_count": 4,
   "metadata": {},
   "outputs": [],
   "source": [
    "def find_line (left_sh, right_sh, spectra, axs):\n",
    "\n",
    "    '''input: \n",
    "    left_sh = left shoulder position (in microns)\n",
    "    right_sh = right shoulder position (in microns)\n",
    "    spectra = array with spectra\n",
    "    axs = ax variable to overplot continuum removal line on the spectra\n",
    "\n",
    "    output: \n",
    "    m = angular coefficient of the line (coefficiente angolare)\n",
    "    q = y-intercept (intercetta/termine noto)\n",
    "    axs \n",
    "    '''\n",
    "\n",
    "    ls_index = find_nearest(left_sh, wvl) #left shoulder index\n",
    "    rs_index = find_nearest (right_sh, wvl) #right shoulder index\n",
    "\n",
    "    YL = spectra[ls_index,:] #left shoulder y coordinate (wvl) for all the spectra \n",
    "    YR = spectra[rs_index,:] #right shoulder y coordinate (wvl) for all the spectra \n",
    "\n",
    "    length = len(YL) #length = number of spectra \n",
    "\n",
    "    XL = np.full(length, wvl[ls_index]) #left shoulder x coordinate (wvl) - (the array is filled all with the same number)\n",
    "    XR = np.full(length, wvl[rs_index]) #right shoulder x coordinate (wvl) - (the array is filled all with the same number)\n",
    "\n",
    "    #overplot chosen left and right shoulder position \n",
    "    axs.scatter(XL, YL, color='red', s=15) \n",
    "    axs.scatter(XR, YR, color='red', s=15)\n",
    "\n",
    "    #plot a line connecting the shoulders\n",
    "    axs.plot((XL, XR), (YL, YR), 'r-')\n",
    "    plt.show()\n",
    "\n",
    "    #find the equation of the line passing through the shoulders\n",
    "    #y=mx+q\n",
    "\n",
    "    m = (YR-YL)/(XR-XL)\n",
    "    q = YL-m*XL\n",
    "\n",
    "\n",
    "    return (m,q)\n",
    "\n",
    "\n",
    "def continuum_removal(left_sh, right_sh, spectra, m, q):\n",
    "\n",
    "\n",
    "    '''input: \n",
    "    left_sh = left shoulder position (in microns) - float\n",
    "    right_sh = right shoulder position (in microns) - float\n",
    "    spectra = array with spectra\n",
    "    m = angular coefficient of the line (coefficiente angolare) - array\n",
    "    q = y-intercept (intercetta/termine noto) - array\n",
    "\n",
    "    output: \n",
    "    y_cr = continuum removed reflectance values - array\n",
    "\n",
    "    also plots the continuum removed bands\n",
    "    \n",
    "    '''\n",
    "\n",
    "\n",
    "    #retrieve shoulder indexes\n",
    "    ls_index = find_nearest(left_sh, wvl) #left shoulder \n",
    "    rs_index = find_nearest (right_sh, wvl) #right shoulder \n",
    "\n",
    "    #remove the continuum\n",
    "\n",
    "    Y = np.transpose(spectra[ls_index:rs_index+1,:]) #array containing the original reflectance values, in the selected range, transposed\n",
    "    X = wvl[ls_index:rs_index+1].reshape(1,-1) #array containing the wavelengths in the selected range, transposed\n",
    "    M = m[:,np.newaxis] #get a (9,1) array from the original (9,) of m\n",
    "    Q = q[:,np.newaxis] #get a (9,1) array from the original (9,) of q\n",
    "\n",
    " \n",
    "    y_cr = Y / (M*X+Q)\n",
    "    \n",
    "    \n",
    "    #plot\n",
    "    fig, axs = plt.subplots(figsize=(10,6)) #figure and axes\n",
    "    axs.set_prop_cycle(color=palette) #set color \n",
    "    axs.plot(wvl[ls_index:rs_index+1], np.transpose(y_cr), label = labels_ls) #plot\n",
    "    #axs.legend(bbox_to_anchor=(1.1,0.5), loc='center', ncol=1, reverse = True) #show legend next to the plot, in 1 col with reversed/not reversed labels\n",
    "    axs.set_ylabel('Reflectance (continuum removed)')\n",
    "    axs.set_xlabel('Wavelength ('+r'$\\mu$m)')\n",
    "    plt.xlim([wvl[ls_index], wvl[rs_index]])\n",
    "\n",
    "\n",
    "    plt.show()\n",
    "\n",
    "    return(np.transpose(y_cr))\n",
    "\n"
   ]
  },
  {
   "cell_type": "markdown",
   "metadata": {},
   "source": [
    "## Band-to-band CR"
   ]
  },
  {
   "cell_type": "code",
   "execution_count": null,
   "metadata": {},
   "outputs": [],
   "source": [
    "#Ls_arr = np.array([0.816, 1.29, 1.82, 2.25, 2.3595]) #left shoulder's array for SM1200H \n",
    "#Rs_arr = np.array([1.172, 1.68, 2.18, 2.346, 2.406]) #right shoulder's array for SM1200H \n",
    "\n",
    "#Ls_arr = np.array([0.427, 0.4718, 0.5887, 0.7666, 1.311, 1.8174, 2.1836, 2.2584]) #left shoulder's array for NAu1\n",
    "#Rs_arr = np.array([0.4706, 0.5641, 0.7501, 1.297, 1.6383, 2.1265, 2.2247, 2.3212]) #right shoulder's array for NAu1\n",
    "\n",
    "#Ls_arr = np.array([0.4889, 0.5803, 0.809, 1.357, 1.837, 2.2258]) #left shoulder's array for NAu2  \n",
    "#Rs_arr = np.array([0.5494, 0.7713, 1.308, 1.644, 2.1458, 2.3317]) #right shoulder's array for NAu2\n",
    "\n",
    "Ls_arr = np.array([0.840, 1.313, 1.835]) #left shoulder's array for hexa \n",
    "Rs_arr = np.array([1.15, 1.835, 2.244]) #right shoulder's array for hexa\n",
    "\n",
    "\n",
    "cr_spectrum_zeros = np.ones_like(spectra) #creating an array containing the y_cr (cr reflectance) at their respective range of wvl and zeros in all the other positions\n",
    "y_bc = []\n",
    "ba = []\n",
    "\n",
    "#computing Y band centre, band area, band depth\n",
    "\n",
    "for i, value in enumerate(Ls_arr):\n",
    "    m,q = find_line(Ls_arr[i], Rs_arr[i], spectra, axs_s)\n",
    "    y_cr = continuum_removal(Ls_arr[i], Rs_arr[i], spectra, m, q) #cr spectra\n",
    "    cr_spectrum_zeros[find_nearest(Ls_arr[i], wvl):find_nearest(Rs_arr[i], wvl)+1]=y_cr\n",
    "\n",
    "    y_bc.append(np.min(y_cr, axis = 0)) #list of array where every array has the minima of the spectra for a specific band\n",
    "\n",
    "    x_cr = wvl[find_nearest(Ls_arr[i], wvl):find_nearest(Rs_arr[i], wvl)+1]\n",
    "    a1 = np.trapz(y_cr, x_cr, axis = 0) #area below the curve\n",
    "    a2 = np.max(x_cr)-np.min(x_cr) #rectangle of base x_cr and height=1\n",
    "    ba.append(a2-a1)\n",
    "\n",
    "\n",
    "#turning the list into an array\n",
    "y_bc = np.asarray(y_bc) #band centre (y)\n",
    "ba = np.asarray(ba) # band area\n",
    "bd = 1.0 - y_bc #band depth\n"
   ]
  },
  {
   "cell_type": "code",
   "execution_count": 6,
   "metadata": {},
   "outputs": [],
   "source": [
    "#X band centre\n",
    "x_bc= np.zeros_like(y_bc) #same as np.shape(y_bc) = (n,9); n = number of absorption features\n",
    "\n",
    "for i in range (0,len(y_bc[:,0])): #5\n",
    "    for j in range(0,len(y_bc[0,:])): #9\n",
    "        x_bc[i,j] = wvl[find_nearest(y_bc[i,j], cr_spectrum_zeros[:,j])]"
   ]
  },
  {
   "cell_type": "code",
   "execution_count": 7,
   "metadata": {},
   "outputs": [],
   "source": [
    "#save in a formatted txt file \n",
    "#add +'_smoothed' in the case you are saving the smoothed data\n",
    "np.savetxt('band_centre_binary_'+endmember1_name, np.transpose(x_bc), header = 'Columns = band centre values for each band; rows = samples\\nSample type = '+endmember1_name+'(endmember 1) +'+endmember2_name+'(endmember 2); starting at % 90 endmember 1 and % 10 endmember 2', fmt = '%.8f')\n",
    "np.savetxt('band_depth_binary_'+endmember1_name, np.transpose(bd), header = 'Columns = band depth values for each band; rows = samples\\nSample type = '+endmember1_name+'(endmember 1)+'+endmember2_name+'(endmember 2); starting at % 90 endmember 1 and % 10 endmember 2', fmt = '%.8f')\n",
    "np.savetxt('band_area_binary_'+endmember1_name, np.transpose(ba), header = 'Columns = band area values for each band, computed with the trapezoidal rule; rows = samples\\nSample type = '+endmember1_name+'(endmember 1)+'+endmember2_name+'(endmember 2); starting at % 90 endmember 1 and % 10 endmember 2', fmt = '%.8f')"
   ]
  },
  {
   "cell_type": "markdown",
   "metadata": {},
   "source": [
    "# Reading, plotting and continuum removal of endmembers"
   ]
  },
  {
   "cell_type": "code",
   "execution_count": 8,
   "metadata": {},
   "outputs": [],
   "source": [
    "#reading endmembers\n",
    "\n",
    "#read endmembers:\n",
    "path = 'Data/' \n",
    "\n",
    "endm = 'FV7' #change endmember here\n",
    "\n",
    "s0 = np.loadtxt(path+endm+'_00000.asd.rts.txt', delimiter='\\t', skiprows = 1)\n",
    "s1 = np.loadtxt(path+endm+'_00001.asd.rts.txt', delimiter='\\t', skiprows = 1)\n",
    "s2 = np.loadtxt(path+endm+'_00002.asd.rts.txt', delimiter='\\t', skiprows = 1)\n",
    "\n",
    "wvl = s0[:,0]*0.001 #wavelength in microns\n",
    "\n",
    "spec = (s0[:,1]+s1[:,1]+s2[:,1])/3"
   ]
  },
  {
   "cell_type": "code",
   "execution_count": null,
   "metadata": {},
   "outputs": [],
   "source": [
    "#---- WARNING ----#\n",
    "# only run this cell if you want to compute the spectral parameters on smoothed spectra\n",
    "\n",
    "#IDL smoothing \n",
    "spec= smooth(spec, 13) #smooth(data, w) -> data = array, w = window size (must be odd); e.g. w = 3"
   ]
  },
  {
   "cell_type": "code",
   "execution_count": 9,
   "metadata": {},
   "outputs": [
    {
     "name": "stdout",
     "output_type": "stream",
     "text": [
      "Using matplotlib backend: MacOSX\n"
     ]
    }
   ],
   "source": [
    "\n",
    "#use %matplotlib to display figures on screen \n",
    "%matplotlib \n",
    "\n",
    "#plot with or without offset\n",
    "fig_s, axs_s = plt.subplots(figsize=(10,6))\n",
    "\n",
    "#spectra\n",
    "axs_s.plot(wvl, spec, label = endm)\n",
    "\n",
    "#y, x label\n",
    "axs_s.set_ylabel('Reflectance', fontsize=10)\n",
    "axs_s.set_xlabel('Wavelength ('+r'$\\mu$m)', fontsize=10)\n",
    "\n",
    "#x tick spacing\n",
    "tick_spacing_major = 0.2\n",
    "tick_spacing_minor = 0.1\n",
    "axs_s.xaxis.set_major_locator(ticker.MultipleLocator(tick_spacing_major)) #big ticks\n",
    "axs_s.xaxis.set_minor_locator(ticker.MultipleLocator(tick_spacing_minor)) #secondary ticks\n",
    "\n",
    "plt.legend() \n",
    "plt.tight_layout()\n",
    "plt.show()"
   ]
  },
  {
   "cell_type": "code",
   "execution_count": 10,
   "metadata": {},
   "outputs": [],
   "source": [
    "\n",
    "#Ls_arr = np.array([1.29, 1.82, 2.25, 2.3595]) #left shoulder's array for SM1200H \n",
    "#Rs_arr = np.array([1.68, 2.18, 2.346, 2.406]) #right shoulder's array for SM1200H \n",
    "\n",
    "#Ls_arr = np.array([0.427, 0.4718, 0.5887, 0.7666, 1.311, 1.8174, 2.1836, 2.2584]) #left shoulder's array for Nau1\n",
    "#Rs_arr = np.array([0.4706, 0.5641, 0.7501, 1.297, 1.6383, 2.1265, 2.2247, 2.3212]) #right shoulder's array for Nau1\n",
    "\n",
    "#Ls_arr = np.array([0.4889, 0.5803, 0.809, 1.357, 1.837, 2.2258]) #left shoulder's array for Nau2  \n",
    "#Rs_arr = np.array([0.5494, 0.7713, 1.308, 1.644, 2.1643, 2.3317]) #right shoulder's array for Nau2* *right shoulder of the 1.9 band is shifted a bit with respect to mix\n",
    "\n",
    "#Ls_arr = np.array([1.300, 1.835, 2.33]) #left shoulder's array for hexa \n",
    "#Rs_arr = np.array([1.835, 2.244, 2.45]) #right shoulder's array for hexa\n",
    "\n",
    "Ls_arr = np.array ([0.810]) #left shoulder for Fv7\n",
    "Rs_arr = np.array ([1.209]) #right shoulder for Fv7\n",
    "\n",
    "cr_spectrum_zeros = np.ones_like(spec) #creating an array containing the y_cr (cr reflectance) at their respective range of wvl and zeros in all the other positions\n",
    "y_bc = []\n",
    "ba = []\n",
    "\n",
    "#computing Y band centre, band area, band depth\n",
    "\n",
    "for i, value in enumerate(Ls_arr):\n",
    "\n",
    "    ls_index = find_nearest(Ls_arr[i], wvl) #left shoulder index\n",
    "    rs_index = find_nearest (Rs_arr[i], wvl) #right shoulder index\n",
    "\n",
    "    YL = spec[ls_index] #left shoulder y coordinate (wvl) \n",
    "    YR = spec[rs_index] #right shoulder y coordinate (wvl) \n",
    "\n",
    "    XL = wvl[ls_index] #left shoulder x coordinate (wvl) \n",
    "    XR = wvl[rs_index] #right shoulder x coordinate (wvl)\n",
    "\n",
    "    #overplot chosen left and right shoulder position \n",
    "    axs_s.scatter(XL, YL, color='red', s=15) \n",
    "    axs_s.scatter(XR, YR, color='red', s=15)\n",
    "\n",
    "    #plot a line connecting the shoulders\n",
    "    axs_s.plot((XL, XR), (YL, YR), 'r-')\n",
    "    plt.show()\n",
    "\n",
    "    #find the equation of the line passing through the shoulders\n",
    "    #y=mx+q\n",
    "\n",
    "    m = (YR-YL)/(XR-XL)\n",
    "    q = YL-m*XL\n",
    "\n",
    "\n",
    "    Y = spec[ls_index:rs_index+1] #array containing the original reflectance values, in the selected range, transposed\n",
    "    X = wvl[ls_index:rs_index+1] #array containing the wavelengths in the selected range, transposed\n",
    "\n",
    " \n",
    "    y_cr = Y / (m*X+q)\n",
    "    \n",
    "    \n",
    "    #plot the lines\n",
    "    fig, axs = plt.subplots(figsize=(10,6)) #figure and axes\n",
    "    #axs.set_prop_cycle(color=palette) #set color \n",
    "    axs.plot(wvl[ls_index:rs_index+1], y_cr) #plot\n",
    "\n",
    "    plt.show()\n",
    "\n",
    "    #continuum removal \n",
    "    cr_spectrum_zeros[find_nearest(Ls_arr[i], wvl):find_nearest(Rs_arr[i], wvl)+1]=y_cr\n",
    "    #BC, BA\n",
    "    y_bc.append(np.min(y_cr)) #list of array where every array has the minima of the spectra for a specific band\n",
    "    x_cr = wvl[find_nearest(Ls_arr[i], wvl):find_nearest(Rs_arr[i], wvl)+1]\n",
    "    a1 = np.trapz(y_cr, x_cr, axis = 0) #area below the curve\n",
    "    a2 = np.max(x_cr)-np.min(x_cr) #rectangle of base x_cr and height=1\n",
    "    ba.append(a2-a1)\n",
    "\n",
    "\n",
    "#turning the list into an array\n",
    "y_bc = np.asarray(y_bc) #band centre (y)\n",
    "ba = np.asarray(ba) # band area\n",
    "bd = 1.0 - y_bc #band depth\n",
    "\n",
    "x_bc = np.zeros_like(y_bc) #same as np.shape(y_bc) \n",
    "\n",
    "#X band centre\n",
    "for i, value in enumerate(y_bc):\n",
    "    x_bc[i] = wvl[find_nearest(y_bc[i], cr_spectrum_zeros)]\n"
   ]
  },
  {
   "cell_type": "code",
   "execution_count": 11,
   "metadata": {},
   "outputs": [
    {
     "name": "stdout",
     "output_type": "stream",
     "text": [
      "band centre: \n",
      " [1.024]\n",
      "band depth: \n",
      " [0.0866]\n",
      "band area: \n",
      " [0.0142]\n"
     ]
    }
   ],
   "source": [
    "#print\n",
    "print('band centre: \\n', x_bc) #rows = bands, columns = spectra\n",
    "print('band depth: \\n', bd.round(4))\n",
    "print('band area: \\n', ba.round(4))"
   ]
  },
  {
   "cell_type": "code",
   "execution_count": 12,
   "metadata": {},
   "outputs": [],
   "source": [
    "#save in a formatted txt file \n",
    "np.savetxt(endm+'_band_centre', x_bc, header = 'Columns = band centre values', fmt = '%.8f')\n",
    "np.savetxt(endm+'_band_depth', bd, header = 'Columns = band depth values', fmt = '%.8f')\n",
    "np.savetxt(endm+'_band_area', ba, header = 'Columns = band area values', fmt = '%.8f')"
   ]
  }
 ],
 "metadata": {
  "kernelspec": {
   "display_name": "Python 3",
   "language": "python",
   "name": "python3"
  },
  "language_info": {
   "codemirror_mode": {
    "name": "ipython",
    "version": 3
   },
   "file_extension": ".py",
   "mimetype": "text/x-python",
   "name": "python",
   "nbconvert_exporter": "python",
   "pygments_lexer": "ipython3",
   "version": "3.12.0"
  }
 },
 "nbformat": 4,
 "nbformat_minor": 2
}
