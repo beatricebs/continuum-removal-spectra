{
 "cells": [
  {
   "cell_type": "markdown",
   "metadata": {},
   "source": [
    "# Description\n",
    "\n",
    "This python script performs continuum removal (CR) on spectra of ternary mixtures. \\\n",
    "In addition, on each isolated band it computes band area (BA), band depth (BD) and band centre (BC). "
   ]
  },
  {
   "cell_type": "code",
   "execution_count": 1,
   "metadata": {},
   "outputs": [
    {
     "name": "stdout",
     "output_type": "stream",
     "text": [
      "Using matplotlib backend: <object object at 0x10928b360>\n"
     ]
    }
   ],
   "source": [
    "# import\n",
    "\n",
    "import numpy as np #numeric python\n",
    "import matplotlib.pyplot as plt #plots\n",
    "import matplotlib.ticker as ticker #set ticks spacing \n",
    "import seaborn as sns\n",
    "\n",
    "#function to find nearest value in a numpy array \n",
    "from find_nearest import find_nearest\n",
    "\n",
    "%matplotlib"
   ]
  },
  {
   "cell_type": "markdown",
   "metadata": {},
   "source": [
    "# Read and plot data"
   ]
  },
  {
   "cell_type": "code",
   "execution_count": 2,
   "metadata": {},
   "outputs": [
    {
     "name": "stdout",
     "output_type": "stream",
     "text": [
      "Spectra shape: (2151, 32)\n"
     ]
    }
   ],
   "source": [
    "#reading data\n",
    "\n",
    "path = 'Data/'\n",
    "endmember1_name = 'NAu-2' #choose among SM1200H, NAu-1, NAu-2\n",
    "endmember2_name = 'HEX'\n",
    "endmember3_name = 'FV7'\n",
    "\n",
    "#assuming clay+'-'+x_ls[i]+'_'+hex+'-'+y_ls[i]+'_'+basalt+'-'+z_ls[i]+'_0000n.asd.rts.txt filename: \n",
    "\n",
    "x_ls = ['80', '70', '60', '50','40', '30', '20', '10',\n",
    "        '70', '60', '50', '40', '30', '20', '10',     \n",
    "        '60', '50', '40', '30','20', '10',   \n",
    "        '50', '40', '30', '20','10',  \n",
    "        '40', '30', '20', '10',  \n",
    "        '20', '10'] # % clay\n",
    "\n",
    "y_ls = ['10', '20', '30', '40','50', '60', '70', '80',\n",
    "        '10', '20', '30', '40','50', '60', '70',\n",
    "        '10', '20', '30', '40','50', '60',\n",
    "        '10', '20', '30', '40','50',\n",
    "        '10', '20', '30', '40',\n",
    "        '10', '20'] # % hex\n",
    "\n",
    "z_ls = ['10', '10', '10', '10','10', '10', '10', '10',\n",
    "        '20', '20', '20', '20', '20', '20', '20',     \n",
    "        '30', '30', '30', '30','30', '30',   \n",
    "        '40', '40', '40', '40','40',  \n",
    "        '50', '50', '50', '50',  \n",
    "        '70', '70'] # % basalt\n",
    "\n",
    "\n",
    "means_ls = [] #list containing mean spectra \n",
    "labels_ls = [] #list with labels\n",
    "\n",
    "for i in range(0, len(x_ls)):\n",
    "\n",
    "    s0 = np.loadtxt(path+endmember1_name+'-'+x_ls[i] + '_'+endmember2_name+'-'+y_ls[i] + '_'+endmember3_name+'-'+z_ls[i]+'_00000.asd.rts.txt', delimiter='\\t', skiprows = 1)\n",
    "    s1 = np.loadtxt(path+endmember1_name+'-'+x_ls[i] + '_'+endmember2_name+'-'+y_ls[i] + '_'+endmember3_name+'-'+z_ls[i]+'_00001.asd.rts.txt', delimiter='\\t', skiprows = 1)\n",
    "    s2 = np.loadtxt(path+endmember1_name+'-'+x_ls[i] + '_'+endmember2_name+'-'+y_ls[i] + '_'+endmember3_name+'-'+z_ls[i]+'_00002.asd.rts.txt', delimiter='\\t', skiprows = 1)\n",
    "\n",
    "    s_mean = (s0[:,1]+s1[:,1]+s2[:,1])/3\n",
    "\n",
    "    means_ls.append(s_mean)\n",
    "    labels_ls.append(endmember1_name+'-'+x_ls[i]+'_'+endmember2_name+'-'+y_ls[i]+'_'+endmember3_name+'-'+z_ls[i])\n",
    "\n",
    "wvl = s0[:,0]*0.001 #wavelength in microns\n",
    "spectra = np.array(means_ls).T #all the spectra go from the list to this numpy array\n",
    "print('Spectra shape:',spectra.shape) #checking shape"
   ]
  },
  {
   "cell_type": "code",
   "execution_count": null,
   "metadata": {},
   "outputs": [
    {
     "name": "stdout",
     "output_type": "stream",
     "text": [
      "Using matplotlib backend: MacOSX\n"
     ]
    }
   ],
   "source": [
    "%matplotlib\n",
    "#plot with or without offset\n",
    "fig_s, axs_s = plt.subplots(figsize=(10,8))\n",
    "\n",
    "#palette\n",
    "palette = sns.color_palette(\"viridis\", len(labels_ls)).as_hex() #https://matplotlib.org/stable/tutorials/colors/colormaps.html\n",
    "axs_s.set_prop_cycle(color=palette)\n",
    "\n",
    "#offset: comment line with off = 0 if you need to use an offset\n",
    "off = np.arange(start = 0, stop = len(spectra[0,:])) * 0.02\n",
    "off = 0\n",
    "\n",
    "#plotting spectra\n",
    "axs_s.plot(wvl, spectra + off, label = labels_ls)\n",
    "\n",
    "#y, x label\n",
    "axs_s.set_ylabel('Reflectance', fontsize=10)\n",
    "axs_s.set_xlabel('Wavelength ('+r'$\\mu$m)', fontsize=10)\n",
    "\n",
    "#x tick spacing\n",
    "tick_spacing_major = 0.2\n",
    "tick_spacing_minor = 0.1\n",
    "axs_s.xaxis.set_major_locator(ticker.MultipleLocator(tick_spacing_major)) #big ticks\n",
    "axs_s.xaxis.set_minor_locator(ticker.MultipleLocator(tick_spacing_minor)) #secondary ticks\n",
    "\n",
    "plt.legend(bbox_to_anchor=(1.3,0.5), loc='center', ncol=1, reverse = True) #show legend next to the plot, in 1 col with reversed labels\n",
    "plt.tight_layout()\n",
    "plt.show()\n"
   ]
  },
  {
   "cell_type": "markdown",
   "metadata": {},
   "source": [
    "# Smoothing (boxcar) - optional"
   ]
  },
  {
   "cell_type": "code",
   "execution_count": 34,
   "metadata": {},
   "outputs": [],
   "source": [
    "#IDL smoothing\n",
    "from IDL_smooth import smooth\n",
    "#smooth(data, w) -> data = array, w = window size (must be odd); e.g. w = 3\n",
    "\n",
    "spectra_smoothed = np.zeros_like(spectra)\n",
    "\n",
    "for i in range (0,32):\n",
    "    spectra_smoothed[:,i] = smooth(spectra[:,i],13)"
   ]
  },
  {
   "cell_type": "code",
   "execution_count": null,
   "metadata": {},
   "outputs": [
    {
     "name": "stdout",
     "output_type": "stream",
     "text": [
      "Using matplotlib backend: MacOSX\n"
     ]
    }
   ],
   "source": [
    "%matplotlib\n",
    "#plot with or without offset\n",
    "fig_s, axs_s = plt.subplots(figsize=(10,6))\n",
    "\n",
    "#palette\n",
    "palette = sns.color_palette(\"viridis\", len(labels_ls)).as_hex() #https://matplotlib.org/stable/tutorials/colors/colormaps.html\n",
    "axs_s.set_prop_cycle(color=palette)\n",
    "\n",
    "#offset: comment line with off = 0 if you need to use an offset\n",
    "off = np.arange(start = 0, stop = len(spectra[0,:])) * 0.02 \n",
    "off = 0\n",
    "\n",
    "#plotting spectra\n",
    "axs_s.plot(wvl, spectra_smoothed + off, label = labels_ls)\n",
    "\n",
    "#y, x label\n",
    "axs_s.set_ylabel('Reflectance', fontsize=10)\n",
    "axs_s.set_xlabel('Wavelength ('+r'$\\mu$m)', fontsize=10)\n",
    "\n",
    "#x tick spacing\n",
    "tick_spacing_major = 0.2\n",
    "tick_spacing_minor = 0.1\n",
    "axs_s.xaxis.set_major_locator(ticker.MultipleLocator(tick_spacing_major)) #big ticks\n",
    "axs_s.xaxis.set_minor_locator(ticker.MultipleLocator(tick_spacing_minor)) #secondary ticks\n",
    "\n",
    "plt.title('Spectra, smoothed')\n",
    "plt.tight_layout()\n",
    "#plt.legend(bbox_to_anchor=(1.12,0.5), loc='center', ncol=1, reverse = True) #show legend next to the plot, in 1 col with reversed labels\n",
    "plt.show()"
   ]
  },
  {
   "cell_type": "code",
   "execution_count": null,
   "metadata": {},
   "outputs": [],
   "source": [
    "#---- WARNING ----#\n",
    "# only run this cell if you want to compute the spectral parameters on smoothed spectra\n",
    "spectra = spectra_smoothed "
   ]
  },
  {
   "cell_type": "markdown",
   "metadata": {},
   "source": [
    "# Continuum removal"
   ]
  },
  {
   "cell_type": "markdown",
   "metadata": {},
   "source": [
    "## Function definition "
   ]
  },
  {
   "cell_type": "code",
   "execution_count": 16,
   "metadata": {},
   "outputs": [],
   "source": [
    "def find_line (left_sh, right_sh, axs):\n",
    "\n",
    "    '''input: \n",
    "    left_sh = left shoulder position (in microns)\n",
    "    right_sh = right shoulder position (in microns)\n",
    "    axs = ax variable to overplot continuum removal line on the spectra\n",
    "\n",
    "    output: \n",
    "    m = angular coefficient of the line (coefficiente angolare)\n",
    "    q = y-intercept (intercetta/termine noto)\n",
    "    axs \n",
    "    '''\n",
    "\n",
    "    ls_index = find_nearest(left_sh, wvl) #left shoulder index\n",
    "    rs_index = find_nearest (right_sh, wvl) #right shoulder index\n",
    "\n",
    "    YL = spectra[ls_index,:] #left shoulder y coordinate (wvl) for all the spectra \n",
    "    YR = spectra[rs_index,:] #right shoulder y coordinate (wvl) for all the spectra \n",
    "\n",
    "    length = len(YL) #length = number of spectra \n",
    "\n",
    "    XL = np.full(length, wvl[ls_index]) #left shoulder x coordinate (wvl) - (the array is filled all with the same number)\n",
    "    XR = np.full(length, wvl[rs_index]) #right shoulder x coordinate (wvl) - (the array is filled all with the same number)\n",
    "\n",
    "    #overplot chosen left and right shoulder position \n",
    "    axs.scatter(XL, YL, color='red', s=15) \n",
    "    axs.scatter(XR, YR, color='red', s=15)\n",
    "\n",
    "    #plot a line connecting the shoulders\n",
    "    axs.plot((XL, XR), (YL, YR), 'r-')\n",
    "    plt.show()\n",
    "\n",
    "    #find the equation of the line passing through the shoulders\n",
    "    #y=mx+q\n",
    "\n",
    "    m = (YR-YL)/(XR-XL)\n",
    "    q = YL-m*XL\n",
    "\n",
    "\n",
    "    return (m,q)\n",
    "\n",
    "\n",
    "def continuum_removal(left_sh, right_sh, m, q):\n",
    "\n",
    "\n",
    "    '''input: \n",
    "    left_sh = left shoulder position (in microns) - float\n",
    "    right_sh = right shoulder position (in microns) - float\n",
    "    m = angular coefficient of the line (coefficiente angolare) - array\n",
    "    q = y-intercept (intercetta/termine noto) - array\n",
    "\n",
    "    output: \n",
    "    y_cr = continuum removed reflectance values - array\n",
    "\n",
    "    also plots the continuum removed bands\n",
    "    \n",
    "    '''\n",
    "\n",
    "\n",
    "    #retrieve shoulder indexes\n",
    "    ls_index = find_nearest(left_sh, wvl) #left shoulder \n",
    "    rs_index = find_nearest (right_sh, wvl) #right shoulder \n",
    "\n",
    "    #remove the continuum\n",
    "\n",
    "    Y = np.transpose(spectra[ls_index:rs_index+1,:]) #array containing the original reflectance values, in the selected range, transposed\n",
    "    X = wvl[ls_index:rs_index+1].reshape(1,-1) #array containing the wavelengths in the selected range, transposed\n",
    "    M = m[:,np.newaxis] #get a (32,1) array from the original (32,) of m\n",
    "    Q = q[:,np.newaxis] #get a (32,1) array from the original (32,) of q\n",
    "\n",
    " \n",
    "    y_cr = Y / (M*X+Q)\n",
    "    \n",
    "    #plot\n",
    "    fig, axs = plt.subplots(figsize=(10,6)) #figure and axes\n",
    "    axs.set_prop_cycle(color=palette) #set color \n",
    "\n",
    "    axs.plot(wvl[ls_index:rs_index+1], np.transpose(y_cr), label = labels_ls) #plot\n",
    "    axs.set_ylabel('Reflectance (continuum removed)')\n",
    "    axs.set_xlabel('Wavelength ('+r'$\\mu$m)')\n",
    "\n",
    "    plt.show()\n",
    "\n",
    "    return(np.transpose(y_cr))\n",
    "\n"
   ]
  },
  {
   "cell_type": "markdown",
   "metadata": {},
   "source": [
    "## Band-to-band CR"
   ]
  },
  {
   "cell_type": "code",
   "execution_count": 17,
   "metadata": {},
   "outputs": [],
   "source": [
    "#Ls_arr = np.array([0.84, 1.29, 1.82, 2.25]) #left shoulder's array for SM1200H \n",
    "#Rs_arr = np.array([1.197, 1.803, 2.18, 2.346]) #right shoulder's array for SM1200H \n",
    "\n",
    "#Ls_arr = np.array([0.427, 0.4718, 0.5887, 0.7666, 1.311, 1.8174, 2.1836, 2.2584]) #left shoulder's array for Nau1\n",
    "#Rs_arr = np.array([0.4706, 0.5641, 0.7501, 1.297, 1.805, 2.165, 2.2247, 2.3212]) #right shoulder's array for Nau1\n",
    "\n",
    "Ls_arr = np.array([0.4889, 0.5803, 0.809, 1.314, 1.825, 2.258]) #left shoulder's array for Nau2 \n",
    "Rs_arr = np.array([0.5494, 0.7713, 1.308, 1.813, 2.2125, 2.3317]) #right shoulder's array for Nau2\n",
    "\n",
    "\n",
    "cr_spectrum_zeros = np.ones_like(spectra) #creating an array containing the y_cr (cr reflectance) at their respective range of wvl and zeros in all the other positions\n",
    "y_bc = [] #band centre (y)\n",
    "ba = [] #band area\n",
    "\n",
    "#computing BD, BA, BC\n",
    "for i, value in enumerate(Ls_arr):\n",
    "    m,q = find_line(Ls_arr[i], Rs_arr[i], axs_s)\n",
    "    y_cr = continuum_removal(Ls_arr[i], Rs_arr[i], m, q) #cr spectra\n",
    "    cr_spectrum_zeros[find_nearest(Ls_arr[i], wvl):find_nearest(Rs_arr[i], wvl)+1]=y_cr\n",
    "\n",
    "    y_bc.append(np.min(y_cr, axis = 0)) #list of array where every array has the minima of the spectra for a specific band\n",
    "    \n",
    "\n",
    "    x_cr = wvl[find_nearest(Ls_arr[i], wvl):find_nearest(Rs_arr[i], wvl)+1]\n",
    "    \n",
    "    a1 = np.trapz(y_cr, x_cr, axis = 0) #area below the curve\n",
    "    a2 = np.max(x_cr)-np.min(x_cr) #rectangle of base x_cr and height=1\n",
    "    ba.append(a2-a1)\n",
    "    \n",
    "\n",
    "#turning the list into an array\n",
    "y_bc = np.asarray(y_bc)\n",
    "ba = np.asarray(ba) \n",
    "bd = 1.0 - y_bc #band depth\n"
   ]
  },
  {
   "cell_type": "code",
   "execution_count": 7,
   "metadata": {},
   "outputs": [],
   "source": [
    "x_bc= np.zeros_like(y_bc) #same as np.shape(y_bc) = (n,32); n = number of absorption features\n",
    "\n",
    "for i in range (0,len(y_bc[:,0])): #n\n",
    "    for j in range(0,len(y_bc[0,:])): #32\n",
    "        x_bc[i,j] = wvl[find_nearest(y_bc[i,j], cr_spectrum_zeros[:,j])]"
   ]
  },
  {
   "cell_type": "code",
   "execution_count": 10,
   "metadata": {},
   "outputs": [],
   "source": [
    "#save in a formatted txt file \n",
    "\n",
    "np.savetxt('band_centre_ternary_'+endmember1_name, np.transpose(x_bc), header = 'Columns = band centre values; rows = samples, %Clay/Hex/Basalt\\nSample type = '+endmember1_name+'+'+endmember2_name+'+'+endmember3_name+' starting at % 80/10/10 - see labels file', fmt = '%.8f')\n",
    "np.savetxt('band_depth_ternary_'+endmember1_name, np.transpose(bd), header = 'Columns = band depth values; rows = samples, %Clay/Hex/Basalt\\nSample type = '+endmember1_name+'+'+endmember2_name+'+'+endmember3_name+' starting at % 80/10/10 - see labels file ', fmt = '%.8f')\n",
    "np.savetxt('band_area_ternary_'+endmember1_name, np.transpose(ba), header = 'Columns = band area values, computed with the trapezoidal rule; rows = samples, %Clay/Hex/Basalt\\nSample type = '+endmember1_name+'+'+endmember2_name+'+'+endmember3_name+' starting at % 80/10/10 - see labels file', fmt = '%.8f')\n",
    "#save labels\n",
    "np.savetxt('labels_ternary_'+endmember1_name, labels_ls, header = 'Label file', fmt = '%s')"
   ]
  }
 ],
 "metadata": {
  "kernelspec": {
   "display_name": "Python 3",
   "language": "python",
   "name": "python3"
  },
  "language_info": {
   "codemirror_mode": {
    "name": "ipython",
    "version": 3
   },
   "file_extension": ".py",
   "mimetype": "text/x-python",
   "name": "python",
   "nbconvert_exporter": "python",
   "pygments_lexer": "ipython3",
   "version": "3.12.0"
  }
 },
 "nbformat": 4,
 "nbformat_minor": 2
}
